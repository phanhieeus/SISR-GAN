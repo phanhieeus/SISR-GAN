{
 "cells": [
  {
   "cell_type": "code",
   "execution_count": 2,
   "metadata": {},
   "outputs": [],
   "source": [
    "import torch\n",
    "import torch.nn as nn\n",
    "from torchinfo import summary"
   ]
  },
  {
   "cell_type": "code",
   "execution_count": 18,
   "metadata": {},
   "outputs": [],
   "source": [
    "class ResidualBlock(nn.Module):\n",
    "    def __init__(self):\n",
    "        super().__init__()\n",
    "        self.residual = nn.Sequential(\n",
    "            nn.Conv2d(64, 64, kernel_size=3, stride=1, padding=1),\n",
    "            nn.BatchNorm2d(64),\n",
    "            nn.PReLU(),\n",
    "            nn.Conv2d(64, 64, kernel_size=3, stride=1, padding=1),\n",
    "            nn.BatchNorm2d(64)\n",
    "        )\n",
    "    def forward(self, x):\n",
    "        return x + self.residual(x)\n",
    "\n",
    "class Generator(nn.Module):\n",
    "    def __init__(self, BLOCK=16, scale=2):\n",
    "        \n",
    "        super().__init__()\n",
    "        self.conv1 = nn.Conv2d(3, 64, kernel_size=9, stride=1, padding=4)\n",
    "        self.prelu = nn.PReLU()\n",
    "        self.res_blocks = nn.Sequential(*[ResidualBlock() for _ in range(BLOCK)])\n",
    "        self.conv2 = nn.Conv2d(64, 64, kernel_size=3, stride=1, padding=1)\n",
    "        self.bn = nn.BatchNorm2d(64)\n",
    "        self.conv3 = nn.Conv2d(64, 256, kernel_size=3, stride=1, padding=1)\n",
    "        self.pixel_shuffle = nn.Sequential(*[nn.PixelShuffle(scale) for _ in range(2)])\n",
    "        self.conv3_ = nn.Conv2d(16, 16, kernel_size=3, stride=1, padding=4)\n",
    "        self.conv4 = nn.Conv2d(16, 3, kernel_size=9, stride=1, padding=1)\n",
    "\n",
    "    def forward(self, x):\n",
    "        x = self.conv1(x)\n",
    "        x = self.prelu(x)\n",
    "        res = self.res_blocks(x)\n",
    "        res = self.conv2(res)\n",
    "        res = self.bn(res)\n",
    "        x = x + res\n",
    "        x = self.conv3(x)\n",
    "        x = self.pixel_shuffle(x)\n",
    "        x = self.prelu(x)\n",
    "        x = self.conv3_(x)\n",
    "        x = self.prelu(x)\n",
    "        x = self.conv4(x)       \n",
    "        return x\n",
    "\n",
    "    \n"
   ]
  },
  {
   "cell_type": "code",
   "execution_count": 20,
   "metadata": {},
   "outputs": [],
   "source": [
    "model = Generator()"
   ]
  },
  {
   "cell_type": "code",
   "execution_count": 21,
   "metadata": {},
   "outputs": [
    {
     "data": {
      "text/plain": [
       "==========================================================================================\n",
       "Layer (type:depth-idx)                   Output Shape              Param #\n",
       "==========================================================================================\n",
       "Generator                                [1, 3, 256, 256]          --\n",
       "├─Conv2d: 1-1                            [1, 64, 64, 64]           15,616\n",
       "├─PReLU: 1-2                             [1, 64, 64, 64]           1\n",
       "├─Sequential: 1-3                        [1, 64, 64, 64]           --\n",
       "│    └─ResidualBlock: 2-1                [1, 64, 64, 64]           --\n",
       "│    │    └─Sequential: 3-1              [1, 64, 64, 64]           74,113\n",
       "│    └─ResidualBlock: 2-2                [1, 64, 64, 64]           --\n",
       "│    │    └─Sequential: 3-2              [1, 64, 64, 64]           74,113\n",
       "│    └─ResidualBlock: 2-3                [1, 64, 64, 64]           --\n",
       "│    │    └─Sequential: 3-3              [1, 64, 64, 64]           74,113\n",
       "│    └─ResidualBlock: 2-4                [1, 64, 64, 64]           --\n",
       "│    │    └─Sequential: 3-4              [1, 64, 64, 64]           74,113\n",
       "│    └─ResidualBlock: 2-5                [1, 64, 64, 64]           --\n",
       "│    │    └─Sequential: 3-5              [1, 64, 64, 64]           74,113\n",
       "│    └─ResidualBlock: 2-6                [1, 64, 64, 64]           --\n",
       "│    │    └─Sequential: 3-6              [1, 64, 64, 64]           74,113\n",
       "│    └─ResidualBlock: 2-7                [1, 64, 64, 64]           --\n",
       "│    │    └─Sequential: 3-7              [1, 64, 64, 64]           74,113\n",
       "│    └─ResidualBlock: 2-8                [1, 64, 64, 64]           --\n",
       "│    │    └─Sequential: 3-8              [1, 64, 64, 64]           74,113\n",
       "│    └─ResidualBlock: 2-9                [1, 64, 64, 64]           --\n",
       "│    │    └─Sequential: 3-9              [1, 64, 64, 64]           74,113\n",
       "│    └─ResidualBlock: 2-10               [1, 64, 64, 64]           --\n",
       "│    │    └─Sequential: 3-10             [1, 64, 64, 64]           74,113\n",
       "│    └─ResidualBlock: 2-11               [1, 64, 64, 64]           --\n",
       "│    │    └─Sequential: 3-11             [1, 64, 64, 64]           74,113\n",
       "│    └─ResidualBlock: 2-12               [1, 64, 64, 64]           --\n",
       "│    │    └─Sequential: 3-12             [1, 64, 64, 64]           74,113\n",
       "│    └─ResidualBlock: 2-13               [1, 64, 64, 64]           --\n",
       "│    │    └─Sequential: 3-13             [1, 64, 64, 64]           74,113\n",
       "│    └─ResidualBlock: 2-14               [1, 64, 64, 64]           --\n",
       "│    │    └─Sequential: 3-14             [1, 64, 64, 64]           74,113\n",
       "│    └─ResidualBlock: 2-15               [1, 64, 64, 64]           --\n",
       "│    │    └─Sequential: 3-15             [1, 64, 64, 64]           74,113\n",
       "│    └─ResidualBlock: 2-16               [1, 64, 64, 64]           --\n",
       "│    │    └─Sequential: 3-16             [1, 64, 64, 64]           74,113\n",
       "├─Conv2d: 1-4                            [1, 64, 64, 64]           36,928\n",
       "├─BatchNorm2d: 1-5                       [1, 64, 64, 64]           128\n",
       "├─Conv2d: 1-6                            [1, 256, 64, 64]          147,712\n",
       "├─Sequential: 1-7                        [1, 16, 256, 256]         --\n",
       "│    └─PixelShuffle: 2-17                [1, 64, 128, 128]         --\n",
       "│    └─PixelShuffle: 2-18                [1, 16, 256, 256]         --\n",
       "├─PReLU: 1-8                             [1, 16, 256, 256]         (recursive)\n",
       "├─Conv2d: 1-9                            [1, 16, 262, 262]         2,320\n",
       "├─PReLU: 1-10                            [1, 16, 262, 262]         (recursive)\n",
       "├─Conv2d: 1-11                           [1, 3, 256, 256]          3,891\n",
       "==========================================================================================\n",
       "Total params: 1,392,404\n",
       "Trainable params: 1,392,404\n",
       "Non-trainable params: 0\n",
       "Total mult-adds (Units.GIGABYTES): 6.07\n",
       "==========================================================================================\n",
       "Input size (MB): 0.05\n",
       "Forward/backward pass size (MB): 212.08\n",
       "Params size (MB): 5.57\n",
       "Estimated Total Size (MB): 217.70\n",
       "=========================================================================================="
      ]
     },
     "execution_count": 21,
     "metadata": {},
     "output_type": "execute_result"
    }
   ],
   "source": [
    "summary(model, input_size=(1, 3, 64, 64))"
   ]
  },
  {
   "cell_type": "code",
   "execution_count": null,
   "metadata": {},
   "outputs": [],
   "source": []
  }
 ],
 "metadata": {
  "kernelspec": {
   "display_name": ".env",
   "language": "python",
   "name": "python3"
  },
  "language_info": {
   "codemirror_mode": {
    "name": "ipython",
    "version": 3
   },
   "file_extension": ".py",
   "mimetype": "text/x-python",
   "name": "python",
   "nbconvert_exporter": "python",
   "pygments_lexer": "ipython3",
   "version": "3.13.2"
  }
 },
 "nbformat": 4,
 "nbformat_minor": 2
}
