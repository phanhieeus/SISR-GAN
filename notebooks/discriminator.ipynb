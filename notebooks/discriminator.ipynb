{
 "cells": [
  {
   "cell_type": "code",
   "execution_count": 2,
   "metadata": {},
   "outputs": [],
   "source": [
    "import torch\n",
    "import torch.nn as nn"
   ]
  },
  {
   "cell_type": "code",
   "execution_count": 3,
   "metadata": {},
   "outputs": [],
   "source": [
    "from torchinfo import summary"
   ]
  },
  {
   "cell_type": "code",
   "execution_count": 4,
   "metadata": {},
   "outputs": [],
   "source": [
    "class discriminator_block(nn.Module):\n",
    "    def __init__(self, in_channels, out_channels, kernel_size=3, stride=1, padding=1):\n",
    "        super().__init__()\n",
    "        self.conv = nn.Conv2d(in_channels, out_channels, kernel_size=kernel_size, stride=stride, padding=padding)\n",
    "        self.bn = nn.BatchNorm2d(out_channels)\n",
    "        self.LeakyReLU = nn.LeakyReLU(negative_slope=0.2, inplace=True)\n",
    "\n",
    "    def forward(self, x):\n",
    "        x = self.conv(x)\n",
    "        x = self.bn(x)\n",
    "        x = self.LeakyReLU(x)\n",
    "        return x"
   ]
  },
  {
   "cell_type": "code",
   "execution_count": 5,
   "metadata": {},
   "outputs": [],
   "source": [
    "model =  nn.Sequential(\n",
    "            nn.Conv2d(3, 64, kernel_size=3, stride=1, padding=1),\n",
    "            nn.LeakyReLU(negative_slope=0.2, inplace=True),\n",
    "            discriminator_block(64, 64, kernel_size=3, stride=2, padding=1),\n",
    "            discriminator_block(64, 128, kernel_size=3, stride=1, padding=1),\n",
    "            discriminator_block(128, 128, kernel_size=3, stride=2, padding=1),\n",
    "            discriminator_block(128, 256, kernel_size=3, stride=1, padding=1),\n",
    "            discriminator_block(256, 256, kernel_size=3, stride=2, padding=1),\n",
    "            discriminator_block(256, 512, kernel_size=3, stride=1, padding=1),\n",
    "            discriminator_block(512, 512, kernel_size=3, stride=2, padding=1),\n",
    "        )\n"
   ]
  },
  {
   "cell_type": "code",
   "execution_count": 6,
   "metadata": {},
   "outputs": [
    {
     "data": {
      "text/plain": [
       "==========================================================================================\n",
       "Layer (type:depth-idx)                   Output Shape              Param #\n",
       "==========================================================================================\n",
       "Sequential                               [64, 512, 16, 16]         --\n",
       "├─Conv2d: 1-1                            [64, 64, 256, 256]        1,792\n",
       "├─LeakyReLU: 1-2                         [64, 64, 256, 256]        --\n",
       "├─discriminator_block: 1-3               [64, 64, 128, 128]        --\n",
       "│    └─Conv2d: 2-1                       [64, 64, 128, 128]        36,928\n",
       "│    └─BatchNorm2d: 2-2                  [64, 64, 128, 128]        128\n",
       "│    └─LeakyReLU: 2-3                    [64, 64, 128, 128]        --\n",
       "├─discriminator_block: 1-4               [64, 128, 128, 128]       --\n",
       "│    └─Conv2d: 2-4                       [64, 128, 128, 128]       73,856\n",
       "│    └─BatchNorm2d: 2-5                  [64, 128, 128, 128]       256\n",
       "│    └─LeakyReLU: 2-6                    [64, 128, 128, 128]       --\n",
       "├─discriminator_block: 1-5               [64, 128, 64, 64]         --\n",
       "│    └─Conv2d: 2-7                       [64, 128, 64, 64]         147,584\n",
       "│    └─BatchNorm2d: 2-8                  [64, 128, 64, 64]         256\n",
       "│    └─LeakyReLU: 2-9                    [64, 128, 64, 64]         --\n",
       "├─discriminator_block: 1-6               [64, 256, 64, 64]         --\n",
       "│    └─Conv2d: 2-10                      [64, 256, 64, 64]         295,168\n",
       "│    └─BatchNorm2d: 2-11                 [64, 256, 64, 64]         512\n",
       "│    └─LeakyReLU: 2-12                   [64, 256, 64, 64]         --\n",
       "├─discriminator_block: 1-7               [64, 256, 32, 32]         --\n",
       "│    └─Conv2d: 2-13                      [64, 256, 32, 32]         590,080\n",
       "│    └─BatchNorm2d: 2-14                 [64, 256, 32, 32]         512\n",
       "│    └─LeakyReLU: 2-15                   [64, 256, 32, 32]         --\n",
       "├─discriminator_block: 1-8               [64, 512, 32, 32]         --\n",
       "│    └─Conv2d: 2-16                      [64, 512, 32, 32]         1,180,160\n",
       "│    └─BatchNorm2d: 2-17                 [64, 512, 32, 32]         1,024\n",
       "│    └─LeakyReLU: 2-18                   [64, 512, 32, 32]         --\n",
       "├─discriminator_block: 1-9               [64, 512, 16, 16]         --\n",
       "│    └─Conv2d: 2-19                      [64, 512, 16, 16]         2,359,808\n",
       "│    └─BatchNorm2d: 2-20                 [64, 512, 16, 16]         1,024\n",
       "│    └─LeakyReLU: 2-21                   [64, 512, 16, 16]         --\n",
       "==========================================================================================\n",
       "Total params: 4,689,088\n",
       "Trainable params: 4,689,088\n",
       "Non-trainable params: 0\n",
       "Total mult-adds (Units.GIGABYTES): 394.42\n",
       "==========================================================================================\n",
       "Input size (MB): 50.33\n",
       "Forward/backward pass size (MB): 7918.85\n",
       "Params size (MB): 18.76\n",
       "Estimated Total Size (MB): 7987.93\n",
       "=========================================================================================="
      ]
     },
     "execution_count": 6,
     "metadata": {},
     "output_type": "execute_result"
    }
   ],
   "source": [
    "summary(model, input_size=(64, 3, 256, 256))"
   ]
  },
  {
   "cell_type": "code",
   "execution_count": 7,
   "metadata": {},
   "outputs": [
    {
     "data": {
      "text/plain": [
       "8192"
      ]
     },
     "execution_count": 7,
     "metadata": {},
     "output_type": "execute_result"
    }
   ],
   "source": [
    "512 * 4 * 4"
   ]
  }
 ],
 "metadata": {
  "kernelspec": {
   "display_name": ".env",
   "language": "python",
   "name": "python3"
  },
  "language_info": {
   "codemirror_mode": {
    "name": "ipython",
    "version": 3
   },
   "file_extension": ".py",
   "mimetype": "text/x-python",
   "name": "python",
   "nbconvert_exporter": "python",
   "pygments_lexer": "ipython3",
   "version": "3.13.2"
  }
 },
 "nbformat": 4,
 "nbformat_minor": 2
}
