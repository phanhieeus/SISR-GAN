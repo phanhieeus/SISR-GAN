{
 "cells": [
  {
   "cell_type": "code",
   "execution_count": 2,
   "metadata": {},
   "outputs": [],
   "source": [
    "import torch\n",
    "import torch.nn as nn"
   ]
  },
  {
   "cell_type": "code",
   "execution_count": 3,
   "metadata": {},
   "outputs": [],
   "source": [
    "from torchinfo import summary"
   ]
  },
  {
   "cell_type": "code",
   "execution_count": 4,
   "metadata": {},
   "outputs": [],
   "source": [
    "class discriminator_block(nn.Module):\n",
    "    def __init__(self, in_channels, out_channels, kernel_size=3, stride=1, padding=1):\n",
    "        super().__init__()\n",
    "        self.conv = nn.Conv2d(in_channels, out_channels, kernel_size=kernel_size, stride=stride, padding=padding)\n",
    "        self.bn = nn.BatchNorm2d(out_channels)\n",
    "        self.LeakyReLU = nn.LeakyReLU(negative_slope=0.2, inplace=True)\n",
    "\n",
    "    def forward(self, x):\n",
    "        x = self.conv(x)\n",
    "        x = self.bn(x)\n",
    "        x = self.LeakyReLU(x)\n",
    "        return x\n",
    "\n",
    "class Discriminator(nn.Module):\n",
    "    def __init__(self):\n",
    "        super().__init__()\n",
    "        self.disc_conv = nn.Sequential(\n",
    "            nn.Conv2d(3, 64, kernel_size=3, stride=1, padding=1),\n",
    "            nn.LeakyReLU(negative_slope=0.2, inplace=True),\n",
    "            discriminator_block(64, 64, kernel_size=3, stride=2, padding=1),\n",
    "            discriminator_block(64, 128, kernel_size=3, stride=1, padding=1),\n",
    "            discriminator_block(128, 128, kernel_size=3, stride=2, padding=1),\n",
    "            discriminator_block(128, 256, kernel_size=3, stride=1, padding=1),\n",
    "            discriminator_block(256, 256, kernel_size=3, stride=2, padding=1),\n",
    "            discriminator_block(256, 512, kernel_size=3, stride=1, padding=1),\n",
    "            discriminator_block(512, 512, kernel_size=3, stride=2, padding=1),\n",
    "        )\n",
    "\n",
    "        self.fc = nn.Sequential(\n",
    "            nn.Linear(512 * 16 * 16, 512 * 4 * 4),\n",
    "            nn.LeakyReLU(negative_slope=0.2, inplace=True),\n",
    "            nn.Linear(512 * 4 * 4, 1024),\n",
    "            nn.LeakyReLU(negative_slope=0.2, inplace=True),\n",
    "            nn.Linear(1024, 1)\n",
    "        )\n",
    "\n",
    "    def forward(self, x):\n",
    "        x = self.disc_conv(x)\n",
    "        x = x.view(x.size(0), -1)\n",
    "        x = self.fc(x)\n",
    "        return x"
   ]
  },
  {
   "cell_type": "code",
   "execution_count": null,
   "metadata": {},
   "outputs": [
    {
     "data": {
      "text/plain": [
       "==========================================================================================\n",
       "Layer (type:depth-idx)                   Output Shape              Param #\n",
       "==========================================================================================\n",
       "Discriminator                            [64, 1]                   --\n",
       "├─Sequential: 1-1                        [64, 512, 16, 16]         --\n",
       "│    └─Conv2d: 2-1                       [64, 64, 256, 256]        1,792\n",
       "│    └─LeakyReLU: 2-2                    [64, 64, 256, 256]        --\n",
       "│    └─discriminator_block: 2-3          [64, 64, 128, 128]        --\n",
       "│    │    └─Conv2d: 3-1                  [64, 64, 128, 128]        36,928\n",
       "│    │    └─BatchNorm2d: 3-2             [64, 64, 128, 128]        128\n",
       "│    │    └─LeakyReLU: 3-3               [64, 64, 128, 128]        --\n",
       "│    └─discriminator_block: 2-4          [64, 128, 128, 128]       --\n",
       "│    │    └─Conv2d: 3-4                  [64, 128, 128, 128]       73,856\n",
       "│    │    └─BatchNorm2d: 3-5             [64, 128, 128, 128]       256\n",
       "│    │    └─LeakyReLU: 3-6               [64, 128, 128, 128]       --\n",
       "│    └─discriminator_block: 2-5          [64, 128, 64, 64]         --\n",
       "│    │    └─Conv2d: 3-7                  [64, 128, 64, 64]         147,584\n",
       "│    │    └─BatchNorm2d: 3-8             [64, 128, 64, 64]         256\n",
       "│    │    └─LeakyReLU: 3-9               [64, 128, 64, 64]         --\n",
       "│    └─discriminator_block: 2-6          [64, 256, 64, 64]         --\n",
       "│    │    └─Conv2d: 3-10                 [64, 256, 64, 64]         295,168\n",
       "│    │    └─BatchNorm2d: 3-11            [64, 256, 64, 64]         512\n",
       "│    │    └─LeakyReLU: 3-12              [64, 256, 64, 64]         --\n",
       "│    └─discriminator_block: 2-7          [64, 256, 32, 32]         --\n",
       "│    │    └─Conv2d: 3-13                 [64, 256, 32, 32]         590,080\n",
       "│    │    └─BatchNorm2d: 3-14            [64, 256, 32, 32]         512\n",
       "│    │    └─LeakyReLU: 3-15              [64, 256, 32, 32]         --\n",
       "│    └─discriminator_block: 2-8          [64, 512, 32, 32]         --\n",
       "│    │    └─Conv2d: 3-16                 [64, 512, 32, 32]         1,180,160\n",
       "│    │    └─BatchNorm2d: 3-17            [64, 512, 32, 32]         1,024\n",
       "│    │    └─LeakyReLU: 3-18              [64, 512, 32, 32]         --\n",
       "│    └─discriminator_block: 2-9          [64, 512, 16, 16]         --\n",
       "│    │    └─Conv2d: 3-19                 [64, 512, 16, 16]         2,359,808\n",
       "│    │    └─BatchNorm2d: 3-20            [64, 512, 16, 16]         1,024\n",
       "│    │    └─LeakyReLU: 3-21              [64, 512, 16, 16]         --\n",
       "├─Sequential: 1-2                        [64, 1]                   --\n",
       "│    └─Linear: 2-10                      [64, 8192]                1,073,750,016\n",
       "│    └─LeakyReLU: 2-11                   [64, 8192]                --\n",
       "│    └─Linear: 2-12                      [64, 1024]                8,389,632\n",
       "│    └─LeakyReLU: 2-13                   [64, 1024]                --\n",
       "│    └─Linear: 2-14                      [64, 1]                   1,025\n",
       "==========================================================================================\n",
       "Total params: 1,086,829,761\n",
       "Trainable params: 1,086,829,761\n",
       "Non-trainable params: 0\n",
       "Total mult-adds (Units.GIGABYTES): 463.68\n",
       "==========================================================================================\n",
       "Input size (MB): 50.33\n",
       "Forward/backward pass size (MB): 7923.57\n",
       "Params size (MB): 4347.32\n",
       "Estimated Total Size (MB): 12321.22\n",
       "=========================================================================================="
      ]
     },
     "execution_count": 5,
     "metadata": {},
     "output_type": "execute_result"
    }
   ],
   "source": [
    "model = Discriminator()\n",
    "summary(model, input_size=(1, 3, 256, 256))"
   ]
  },
  {
   "cell_type": "code",
   "execution_count": null,
   "metadata": {},
   "outputs": [],
   "source": []
  }
 ],
 "metadata": {
  "kernelspec": {
   "display_name": ".env",
   "language": "python",
   "name": "python3"
  },
  "language_info": {
   "codemirror_mode": {
    "name": "ipython",
    "version": 3
   },
   "file_extension": ".py",
   "mimetype": "text/x-python",
   "name": "python",
   "nbconvert_exporter": "python",
   "pygments_lexer": "ipython3",
   "version": "3.13.2"
  }
 },
 "nbformat": 4,
 "nbformat_minor": 2
}
